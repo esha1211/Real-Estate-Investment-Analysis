{
 "cells": [
  {
   "cell_type": "code",
   "execution_count": 26,
   "metadata": {},
   "outputs": [],
   "source": [
    "import pandas as pd\n",
    "import numpy as np\n",
    "from scipy.optimize import minimize"
   ]
  },
  {
   "cell_type": "code",
   "execution_count": 2,
   "metadata": {},
   "outputs": [],
   "source": [
    "# Load the Excel file\n",
    "file_path = \"/Users/esha/Documents/Prescriptive/Final Project/CRE_Data_SpringA2025.xlsx\"\n",
    "xls = pd.ExcelFile(file_path)\n"
   ]
  },
  {
   "cell_type": "code",
   "execution_count": 3,
   "metadata": {},
   "outputs": [],
   "source": [
    "# Load the Financials and Equity sheets\n",
    "financials_df = pd.read_excel(xls, sheet_name=\"Financials\")\n",
    "equity_df = pd.read_excel(xls, sheet_name=\"Equity\")"
   ]
  },
  {
   "cell_type": "code",
   "execution_count": 4,
   "metadata": {},
   "outputs": [],
   "source": [
    "# Clean column names\n",
    "financials_df.columns = financials_df.columns.str.strip()\n",
    "equity_df.columns = equity_df.columns.str.strip()"
   ]
  },
  {
   "cell_type": "code",
   "execution_count": 20,
   "metadata": {},
   "outputs": [],
   "source": [
    "# Define weighted objective function to return a scalar value\n",
    "def weighted_objective(weights):\n",
    "    return -np.sum(weights[0] * tradeoff_analysis[\"avg_noi\"].mean() +\n",
    "                   weights[1] * tradeoff_analysis[\"avg_equity_growth\"].mean() -\n",
    "                   weights[2] * tradeoff_analysis[\"noi_volatility\"].mean() -\n",
    "                   weights[3] * tradeoff_analysis[\"vacancy_volatility\"].mean() -\n",
    "                   weights[4] * tradeoff_analysis[\"op_exp_ratio_volatility\"].mean())\n"
   ]
  },
  {
   "cell_type": "code",
   "execution_count": 21,
   "metadata": {},
   "outputs": [],
   "source": [
    "# Initial weight values for optimization\n",
    "init_weights = [0.4, 0.3, 0.1, 0.1, 0.1]"
   ]
  },
  {
   "cell_type": "code",
   "execution_count": 22,
   "metadata": {},
   "outputs": [],
   "source": [
    "# Constraint: weights must sum to 1\n",
    "cons = ({'type': 'eq', 'fun': lambda w: sum(w) - 1})"
   ]
  },
  {
   "cell_type": "code",
   "execution_count": 23,
   "metadata": {},
   "outputs": [],
   "source": [
    "# Bounds: Each weight must be between 0 and 1\n",
    "bounds = [(0, 1)] * 5\n"
   ]
  },
  {
   "cell_type": "code",
   "execution_count": 27,
   "metadata": {},
   "outputs": [],
   "source": [
    "# Run optimization\n",
    "optimal_weights = minimize(weighted_objective, init_weights, bounds=bounds, constraints=cons)"
   ]
  },
  {
   "cell_type": "code",
   "execution_count": 28,
   "metadata": {},
   "outputs": [],
   "source": [
    "# Apply optimized weights\n",
    "tradeoff_analysis[\"Weighted Score\"] = (\n",
    "    optimal_weights.x[0] * tradeoff_analysis[\"avg_noi\"] +\n",
    "    optimal_weights.x[1] * tradeoff_analysis[\"avg_equity_growth\"] -\n",
    "    optimal_weights.x[2] * tradeoff_analysis[\"noi_volatility\"] -\n",
    "    optimal_weights.x[3] * tradeoff_analysis[\"vacancy_volatility\"] -\n",
    "    optimal_weights.x[4] * tradeoff_analysis[\"op_exp_ratio_volatility\"]\n",
    ")"
   ]
  },
  {
   "cell_type": "code",
   "execution_count": 36,
   "metadata": {},
   "outputs": [],
   "source": [
    "# Compute Initial Equity Investment Per City\n",
    "equity_summary = equity_df.groupby(\"City\").agg(\n",
    "    avg_initial_equity=(\"Initial Equity Investment\", \"mean\")\n",
    ").reset_index()"
   ]
  },
  {
   "cell_type": "code",
   "execution_count": 37,
   "metadata": {},
   "outputs": [],
   "source": [
    "# Merge Initial Equity Data with tradeoff_analysis\n",
    "tradeoff_analysis = tradeoff_analysis.merge(equity_summary, on=\"City\", how=\"left\")"
   ]
  },
  {
   "cell_type": "code",
   "execution_count": 38,
   "metadata": {},
   "outputs": [],
   "source": [
    "# Compute Return on Investment (ROI)\n",
    "tradeoff_analysis[\"ROI\"] = (\n",
    "    tradeoff_analysis[\"avg_noi\"] + (tradeoff_analysis[\"avg_equity_growth\"] * tradeoff_analysis[\"avg_initial_equity\"])\n",
    ") / tradeoff_analysis[\"avg_initial_equity\"]"
   ]
  },
  {
   "cell_type": "code",
   "execution_count": 41,
   "metadata": {},
   "outputs": [],
   "source": [
    "# Compute Total Risk Exposure as a weighted sum of different volatilities\n",
    "tradeoff_analysis[\"Total Risk Exposure\"] = (\n",
    "    tradeoff_analysis[\"noi_volatility\"] * 0.5 + \n",
    "    tradeoff_analysis[\"vacancy_volatility\"] * 0.3 + \n",
    "    tradeoff_analysis[\"op_exp_ratio_volatility\"] * 0.2\n",
    ")"
   ]
  },
  {
   "cell_type": "code",
   "execution_count": 42,
   "metadata": {},
   "outputs": [],
   "source": [
    "# Compute MOO Score (Risk-Adjusted ROI)\n",
    "tradeoff_analysis[\"MOO Score\"] = (\n",
    "    tradeoff_analysis[\"ROI\"] / tradeoff_analysis[\"Total Risk Exposure\"]\n",
    ")"
   ]
  },
  {
   "cell_type": "code",
   "execution_count": 43,
   "metadata": {},
   "outputs": [],
   "source": [
    "# Normalize the MOO Scores (Scaling between 0-1 for comparison)\n",
    "tradeoff_analysis[\"MOO Score\"] = (tradeoff_analysis[\"MOO Score\"] - tradeoff_analysis[\"MOO Score\"].min()) / (\n",
    "    tradeoff_analysis[\"MOO Score\"].max() - tradeoff_analysis[\"MOO Score\"].min()\n",
    ")"
   ]
  },
  {
   "cell_type": "code",
   "execution_count": 44,
   "metadata": {},
   "outputs": [
    {
     "name": "stdout",
     "output_type": "stream",
     "text": [
      "          City       ROI  Total Risk Exposure  MOO Score\n",
      "0     Fairview  6.135842        192563.677724   0.850494\n",
      "1     New Hope  7.998054        240738.179077   1.000000\n",
      "2  Springfield  4.995328        206995.228909   0.000000\n"
     ]
    }
   ],
   "source": [
    "print(tradeoff_analysis[[\"City\", \"ROI\", \"Total Risk Exposure\", \"MOO Score\"]])"
   ]
  },
  {
   "cell_type": "code",
   "execution_count": 45,
   "metadata": {},
   "outputs": [
    {
     "name": "stdout",
     "output_type": "stream",
     "text": [
      "Best investment market based on MOO: New Hope\n"
     ]
    }
   ],
   "source": [
    "best_market = tradeoff_analysis.loc[tradeoff_analysis[\"MOO Score\"].idxmax(), \"City\"]\n",
    "print(f\"Best investment market based on MOO: {best_market}\")"
   ]
  },
  {
   "cell_type": "code",
   "execution_count": null,
   "metadata": {},
   "outputs": [],
   "source": []
  },
  {
   "cell_type": "code",
   "execution_count": 29,
   "metadata": {},
   "outputs": [],
   "source": [
    "# Identify the best city based on Multi-Objective Optimization\n",
    "best_market = tradeoff_analysis.loc[tradeoff_analysis[\"Weighted Score\"].idxmax(), \"City\"]\n"
   ]
  },
  {
   "cell_type": "code",
   "execution_count": 30,
   "metadata": {},
   "outputs": [
    {
     "name": "stdout",
     "output_type": "stream",
     "text": [
      "Best investment market based on MOO: New Hope\n"
     ]
    }
   ],
   "source": [
    "print(f\"Best investment market based on MOO: {best_market}\")"
   ]
  },
  {
   "cell_type": "code",
   "execution_count": null,
   "metadata": {},
   "outputs": [],
   "source": []
  }
 ],
 "metadata": {
  "kernelspec": {
   "display_name": "gba462p",
   "language": "python",
   "name": "python3"
  },
  "language_info": {
   "codemirror_mode": {
    "name": "ipython",
    "version": 3
   },
   "file_extension": ".py",
   "mimetype": "text/x-python",
   "name": "python",
   "nbconvert_exporter": "python",
   "pygments_lexer": "ipython3",
   "version": "3.12.4"
  }
 },
 "nbformat": 4,
 "nbformat_minor": 2
}
