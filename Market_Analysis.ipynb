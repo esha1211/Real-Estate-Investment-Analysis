{
 "cells": [
  {
   "cell_type": "code",
   "execution_count": 19,
   "metadata": {},
   "outputs": [],
   "source": [
    "import pandas as pd"
   ]
  },
  {
   "cell_type": "code",
   "execution_count": 20,
   "metadata": {},
   "outputs": [],
   "source": [
    "#load the excel file\n",
    "file_path = '/Users/esha/Documents/Prescriptive/Final Project/CRE_Data_SpringA2025.xlsx'\n",
    "xls = pd.ExcelFile(file_path) "
   ]
  },
  {
   "cell_type": "code",
   "execution_count": 21,
   "metadata": {},
   "outputs": [],
   "source": [
    "# load the financials and equity sheets\n",
    "financials_df = pd.read_excel(xls, sheet_name='Financials')\n",
    "equity_df = pd.read_excel(xls, sheet_name='Equity')"
   ]
  },
  {
   "cell_type": "code",
   "execution_count": 22,
   "metadata": {},
   "outputs": [],
   "source": [
    "# clean column names\n",
    "financials_df.columns = financials_df.columns.str.strip()"
   ]
  },
  {
   "cell_type": "code",
   "execution_count": 24,
   "metadata": {},
   "outputs": [],
   "source": [
    "# aggregate financials data by city\n",
    "financial_summary = financials_df.groupby('City').agg(\n",
    "    avg_noi=('Net Operating Income', 'mean'),\n",
    "    avg_vacancy= ('Vacancy Rate', 'mean'),\n",
    "    avg_op_exp_ratio= ('Operating expense ratio', 'mean'),\n",
    ").reset_index()"
   ]
  },
  {
   "cell_type": "code",
   "execution_count": 25,
   "metadata": {},
   "outputs": [],
   "source": [
    "# calculating equity growth\n",
    "equity_df['Equity Growth (%)'] = ((equity_df['Equity Reversion'] - equity_df['Initial Equity Investment']) / equity_df['Initial Equity Investment']) * 100"
   ]
  },
  {
   "cell_type": "code",
   "execution_count": 26,
   "metadata": {},
   "outputs": [],
   "source": [
    "#aggregation equity data by city\n",
    "equity_summary = equity_df.groupby('City').agg(\n",
    "    avg_equity_growth=('Equity Growth (%)', 'mean')\n",
    ").reset_index()"
   ]
  },
  {
   "cell_type": "code",
   "execution_count": 27,
   "metadata": {},
   "outputs": [],
   "source": [
    "# merging financials and equity\n",
    "market_analysis = pd.merge(financial_summary, equity_summary, on='City')"
   ]
  },
  {
   "cell_type": "code",
   "execution_count": 28,
   "metadata": {},
   "outputs": [
    {
     "name": "stdout",
     "output_type": "stream",
     "text": [
      "          City       avg_noi  avg_vacancy  avg_op_exp_ratio  avg_equity_growth\n",
      "0     Fairview  9.061587e+05     9.857040         57.371485           6.099268\n",
      "1     New Hope  1.108207e+06    10.177771         50.482743           7.941389\n",
      "2  Springfield  9.623995e+05    10.079560         52.012729           4.963281\n"
     ]
    }
   ],
   "source": [
    "print(market_analysis)"
   ]
  }
 ],
 "metadata": {
  "kernelspec": {
   "display_name": "gba462p",
   "language": "python",
   "name": "python3"
  },
  "language_info": {
   "codemirror_mode": {
    "name": "ipython",
    "version": 3
   },
   "file_extension": ".py",
   "mimetype": "text/x-python",
   "name": "python",
   "nbconvert_exporter": "python",
   "pygments_lexer": "ipython3",
   "version": "3.12.4"
  }
 },
 "nbformat": 4,
 "nbformat_minor": 2
}
