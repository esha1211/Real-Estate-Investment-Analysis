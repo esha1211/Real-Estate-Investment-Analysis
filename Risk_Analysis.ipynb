{
 "cells": [
  {
   "cell_type": "code",
   "execution_count": 13,
   "metadata": {},
   "outputs": [],
   "source": [
    "import numpy as np\n",
    "import pandas as pd"
   ]
  },
  {
   "cell_type": "code",
   "execution_count": 14,
   "metadata": {},
   "outputs": [],
   "source": [
    "# Load the Excel file again (if needed)\n",
    "file_path = \"CRE_Data_SpringA2025.xlsx\"\n",
    "xls = pd.ExcelFile(file_path)"
   ]
  },
  {
   "cell_type": "code",
   "execution_count": 15,
   "metadata": {},
   "outputs": [],
   "source": [
    "# Load the Financials sheet\n",
    "financials_df = pd.read_excel(xls, sheet_name=\"Financials\")"
   ]
  },
  {
   "cell_type": "code",
   "execution_count": 16,
   "metadata": {},
   "outputs": [],
   "source": [
    "# Clean column names (strip extra spaces)\n",
    "financials_df.columns = financials_df.columns.str.strip()\n"
   ]
  },
  {
   "cell_type": "code",
   "execution_count": 17,
   "metadata": {},
   "outputs": [
    {
     "name": "stdout",
     "output_type": "stream",
     "text": [
      "       City  Building ID Class  Year  Gross Rental Income      Lost Rent  \\\n",
      "0  Fairview       365743     B     1         2.065901e+06  152633.686636   \n",
      "1  Fairview       365743     B     2         2.169196e+06  160265.370968   \n",
      "2  Fairview       365743     B     3         2.277656e+06  168278.639516   \n",
      "3  Fairview       365743     B     4         2.391539e+06  176692.571492   \n",
      "4  Fairview       365743     B     5         2.511116e+06  185527.200067   \n",
      "\n",
      "   Effective Gross Income  Operating Expenses  Net Operating Income  \\\n",
      "0            1.913268e+06        1.069644e+06          8.436233e+05   \n",
      "1            2.008931e+06        1.123127e+06          8.858045e+05   \n",
      "2            2.109378e+06        1.179283e+06          9.300947e+05   \n",
      "3            2.214846e+06        1.238247e+06          9.765995e+05   \n",
      "4            2.325589e+06        1.300159e+06          1.025429e+06   \n",
      "\n",
      "   Vacancy Rate  Operating expense ratio  Rent CAGR  Rent CAGR.1  \n",
      "0      7.388237                55.906673    0.05000     0.050000  \n",
      "1      7.388237                55.906673   -0.15684     0.050000  \n",
      "2      7.388237                55.906673   -0.15684     0.050000  \n",
      "3      7.388237                55.906673   -0.15684     0.050000  \n",
      "4      7.388237                55.906673   -0.15684    -0.563411  \n"
     ]
    }
   ],
   "source": [
    "# Check the first few rows\n",
    "print(financials_df.head())"
   ]
  },
  {
   "cell_type": "code",
   "execution_count": 19,
   "metadata": {},
   "outputs": [],
   "source": [
    "# Compute Mean and Standard Deviation for Risk Metrics\n",
    "risk_analysis = financials_df.groupby(\"City\").agg(\n",
    "    avg_noi=(\"Net Operating Income\", \"mean\"),\n",
    "    noi_std=(\"Net Operating Income\", \"std\"),\n",
    "    avg_vacancy=(\"Vacancy Rate\", \"mean\"),\n",
    "    vacancy_std=(\"Vacancy Rate\", \"std\"),\n",
    "    avg_op_exp_ratio=(\"Operating expense ratio\", \"mean\"),\n",
    "    op_exp_ratio_std=(\"Operating expense ratio\", \"std\")\n",
    ").reset_index()"
   ]
  },
  {
   "cell_type": "code",
   "execution_count": 20,
   "metadata": {},
   "outputs": [],
   "source": [
    "# Compute Coefficient of Variation (Relative Risk)\n",
    "risk_analysis[\"NOI_CV\"] = risk_analysis[\"noi_std\"] / risk_analysis[\"avg_noi\"]\n",
    "risk_analysis[\"Vacancy_CV\"] = risk_analysis[\"vacancy_std\"] / risk_analysis[\"avg_vacancy\"]\n",
    "risk_analysis[\"Op_Exp_CV\"] = risk_analysis[\"op_exp_ratio_std\"] / risk_analysis[\"avg_op_exp_ratio\"]"
   ]
  },
  {
   "cell_type": "code",
   "execution_count": 21,
   "metadata": {},
   "outputs": [],
   "source": [
    "# Compute Expected Monetary Value (EMV) based on risk exposure\n",
    "risk_analysis[\"EMV\"] = risk_analysis[\"avg_noi\"] - (0.5 * risk_analysis[\"noi_std\"] + \n",
    "                                                    0.3 * risk_analysis[\"vacancy_std\"] + \n",
    "                                                    0.2 * risk_analysis[\"op_exp_ratio_std\"])\n"
   ]
  },
  {
   "cell_type": "code",
   "execution_count": 22,
   "metadata": {},
   "outputs": [
    {
     "name": "stdout",
     "output_type": "stream",
     "text": [
      "          City       avg_noi        noi_std  avg_vacancy  vacancy_std  \\\n",
      "0     Fairview  9.061587e+05  385123.853317     9.857040     3.000211   \n",
      "1     New Hope  1.108207e+06  481472.903492    10.177771     2.825514   \n",
      "2  Springfield  9.623995e+05  413986.981177    10.079560     2.898137   \n",
      "\n",
      "   avg_op_exp_ratio  op_exp_ratio_std    NOI_CV  Vacancy_CV  Op_Exp_CV  \\\n",
      "0         57.371485          4.255008  0.425007    0.304372   0.074166   \n",
      "1         50.482743          4.398383  0.434461    0.277616   0.087126   \n",
      "2         52.012729          4.344397  0.430161    0.287526   0.083526   \n",
      "\n",
      "             EMV  \n",
      "0  713594.984206  \n",
      "1  867468.913995  \n",
      "2  755404.221234  \n"
     ]
    }
   ],
   "source": [
    "# Display final risk metrics\n",
    "print(risk_analysis)"
   ]
  },
  {
   "cell_type": "code",
   "execution_count": null,
   "metadata": {},
   "outputs": [],
   "source": []
  }
 ],
 "metadata": {
  "kernelspec": {
   "display_name": "gba462p",
   "language": "python",
   "name": "python3"
  },
  "language_info": {
   "codemirror_mode": {
    "name": "ipython",
    "version": 3
   },
   "file_extension": ".py",
   "mimetype": "text/x-python",
   "name": "python",
   "nbconvert_exporter": "python",
   "pygments_lexer": "ipython3",
   "version": "3.12.4"
  }
 },
 "nbformat": 4,
 "nbformat_minor": 2
}
